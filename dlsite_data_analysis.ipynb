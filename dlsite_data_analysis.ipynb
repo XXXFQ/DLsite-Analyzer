{
 "cells": [
  {
   "cell_type": "code",
   "execution_count": 4,
   "metadata": {},
   "outputs": [],
   "source": [
    "import requests\n",
    "from bs4 import BeautifulSoup\n",
    "\n",
    "headers = {\n",
    "    \"User-Agent\": \"Mozilla/5.0 (Windows NT 10.0; Win64; x64) AppleWebKit/537.36 (KHTML, like Gecko) Chrome/117.0.5938.132 Safari/537.36\",\n",
    "    \"Accept-Language\": \"en-US,en;q=0.9\",\n",
    "    \"Connection\": \"keep-alive\"\n",
    "}\n",
    "url = 'https://www.dlsite.com/maniax/work/=/product_id/RJ438625.html'\n",
    "\n",
    "response = requests.get(url, headers=headers)"
   ]
  },
  {
   "cell_type": "code",
   "execution_count": 5,
   "metadata": {},
   "outputs": [
    {
     "name": "stdout",
     "output_type": "stream",
     "text": [
      "{'release_date': '2022年12月23日', 'series_name': '', 'scenario': ['乾右京'], 'illustration': ['なぎは'], 'voice_actor': ['秋野かえで', '逢坂成美'], 'age_rating': 'R18', 'product_format': 'ボイス・ASMR', 'genre': ['バイノーラル/ダミヘ', 'ASMR', '妹', 'サキュバス/淫魔', 'ラブラブ/あまあま', 'ハーレム', '中出し', '男性受け']}\n"
     ]
    }
   ],
   "source": [
    "# Parse the HTML response\n",
    "soup = BeautifulSoup(response.text, \"html.parser\")\n",
    "\n",
    "# Find the table by its ID\n",
    "analysis_element = soup.find(\"table\", id=\"work_outline\")\n",
    "\n",
    "# Extract headers and corresponding detail links in one pass using zip\n",
    "table_headers = [th.text.strip() for th in analysis_element.find_all(\"th\")]\n",
    "detail_links = [td.find_all(\"a\") for td in analysis_element.find_all(\"td\")]\n",
    "\n",
    "# Create a dictionary using dictionary comprehension for readability\n",
    "work_details = {\n",
    "    header: [link.text.strip() for link in links]\n",
    "    for header, links in zip(table_headers, detail_links)\n",
    "}\n",
    "\n",
    "# Map the work details to a structured dictionary with defaults\n",
    "work_details_mapped = {\n",
    "    'release_date': work_details.get('販売日', [''])[0],\n",
    "    'series_name': work_details.get('シリーズ名', [''])[0],\n",
    "    'scenario': work_details.get('シナリオ', []),\n",
    "    'illustration': work_details.get('イラスト', []),\n",
    "    'voice_actor': work_details.get('声優', []),\n",
    "    'age_rating': work_details.get('年齢指定', [''])[0],\n",
    "    'product_format': work_details.get('作品形式', [''])[0],\n",
    "    'genre': work_details.get('ジャンル', []),\n",
    "}\n",
    "\n",
    "print(work_details_mapped)"
   ]
  },
  {
   "cell_type": "code",
   "execution_count": 1,
   "metadata": {},
   "outputs": [],
   "source": [
    "from dlsite_analyzer.config import RAW_JSON_DATA_DIR\n",
    "from dlsite_analyzer import (\n",
    "    DatabaseInitializer,\n",
    "    archive_and_cleanup,\n",
    "    fetch_and_save_voice_works,\n",
    "    import_voice_works_to_db,\n",
    ")"
   ]
  },
  {
   "cell_type": "code",
   "execution_count": 5,
   "metadata": {},
   "outputs": [
    {
     "name": "stderr",
     "output_type": "stream",
     "text": [
      "\u001b[90m2025-01-06 01:15:14 \u001b[94mINFO     \u001b[35mdlsite_analyzer.utils.file_util \u001b[37mFiles archived and saved as ZIP: d:\\workspace\\python\\DLsite-Analyzer\\data\\archives\\2025-01-06-011503.zip\u001b[0m\n",
      "\u001b[90m2025-01-06 01:15:14 \u001b[94mINFO     \u001b[35mdlsite_analyzer.utils.file_util \u001b[37mCleaned up and recreated directory: data\\raw_json\u001b[0m\n"
     ]
    }
   ],
   "source": [
    "# Fetch and save voice works\n",
    "archive_and_cleanup()"
   ]
  },
  {
   "cell_type": "code",
   "execution_count": 3,
   "metadata": {},
   "outputs": [
    {
     "name": "stderr",
     "output_type": "stream",
     "text": [
      "\u001b[90m2025-01-06 01:14:55 \u001b[94mINFO     \u001b[35mdlsite_analyzer.database_initializer \u001b[37mTables created.\u001b[0m\n",
      "\u001b[90m2025-01-06 01:14:55 \u001b[94mINFO     \u001b[35mdlsite_analyzer.database_initializer \u001b[37mIndexes created.\u001b[0m\n",
      "\u001b[90m2025-01-06 01:14:55 \u001b[94mINFO     \u001b[35mdlsite_analyzer.database_initializer \u001b[37mInitial data inserted.\u001b[0m\n",
      "\u001b[90m2025-01-06 01:14:55 \u001b[94mINFO     \u001b[35mdlsite_analyzer.database_initializer \u001b[37mViews created.\u001b[0m\n"
     ]
    }
   ],
   "source": [
    "# Initialize the database if required\n",
    "DatabaseInitializer().initialize()"
   ]
  },
  {
   "cell_type": "code",
   "execution_count": 2,
   "metadata": {},
   "outputs": [
    {
     "name": "stderr",
     "output_type": "stream",
     "text": [
      "\u001b[90m2025-01-06 00:21:52 \u001b[94mINFO     \u001b[35mdlsite_analyzer \u001b[37mTotal pages to process: 567\u001b[0m\n",
      "Fetching pages:   1%|▏         | 8/567 [00:36<40:55,  4.39s/it]\u001b[90m2025-01-06 00:22:33 \u001b[31mERROR    \u001b[35mdlsite_analyzer \u001b[37mFailed to fetch page 9. Retrying (1/3)...\u001b[0m\n",
      "Fetching pages:   3%|▎         | 15/567 [01:18<50:27,  5.48s/it] \u001b[90m2025-01-06 00:23:17 \u001b[31mERROR    \u001b[35mdlsite_analyzer \u001b[37mFailed to fetch page 16. Retrying (1/3)...\u001b[0m\n",
      "Fetching pages:   4%|▎         | 20/567 [01:52<54:46,  6.01s/it]  \u001b[90m2025-01-06 00:23:52 \u001b[31mERROR    \u001b[35mdlsite_analyzer \u001b[37mFailed to fetch page 21. Retrying (1/3)...\u001b[0m\n",
      "Fetching pages:   6%|▌         | 32/567 [03:04<47:22,  5.31s/it]  \u001b[90m2025-01-06 00:25:04 \u001b[31mERROR    \u001b[35mdlsite_analyzer \u001b[37mFailed to fetch page 33. Retrying (1/3)...\u001b[0m\n",
      "Fetching pages:  17%|█▋        | 99/567 [08:38<39:27,  5.06s/it]  \u001b[90m2025-01-06 00:30:37 \u001b[31mERROR    \u001b[35mdlsite_analyzer \u001b[37mFailed to fetch page 100. Retrying (1/3)...\u001b[0m\n",
      "Fetching pages:  22%|██▏       | 125/567 [10:51<34:32,  4.69s/it]\u001b[90m2025-01-06 00:32:50 \u001b[31mERROR    \u001b[35mdlsite_analyzer \u001b[37mFailed to fetch page 126. Retrying (1/3)...\u001b[0m\n",
      "Fetching pages:  26%|██▌       | 148/567 [12:52<35:31,  5.09s/it]\u001b[90m2025-01-06 00:34:53 \u001b[31mERROR    \u001b[35mdlsite_analyzer \u001b[37mFailed to fetch page 149. Retrying (1/3)...\u001b[0m\n",
      "Fetching pages:  29%|██▊       | 163/567 [14:17<31:38,  4.70s/it]\u001b[90m2025-01-06 00:36:16 \u001b[31mERROR    \u001b[35mdlsite_analyzer \u001b[37mFailed to fetch page 164. Retrying (1/3)...\u001b[0m\n",
      "Fetching pages:  29%|██▉       | 166/567 [14:40<39:45,  5.95s/it]\u001b[90m2025-01-06 00:36:39 \u001b[31mERROR    \u001b[35mdlsite_analyzer \u001b[37mFailed to fetch page 167. Retrying (1/3)...\u001b[0m\n",
      "Fetching pages:  30%|███       | 172/567 [15:16<34:33,  5.25s/it]\u001b[90m2025-01-06 00:37:15 \u001b[31mERROR    \u001b[35mdlsite_analyzer \u001b[37mFailed to fetch page 173. Retrying (1/3)...\u001b[0m\n",
      "Fetching pages:  34%|███▎      | 190/567 [16:52<33:08,  5.27s/it]\u001b[90m2025-01-06 00:38:51 \u001b[31mERROR    \u001b[35mdlsite_analyzer \u001b[37mFailed to fetch page 191. Retrying (1/3)...\u001b[0m\n",
      "Fetching pages:  35%|███▌      | 200/567 [17:48<29:32,  4.83s/it]\u001b[90m2025-01-06 00:39:47 \u001b[31mERROR    \u001b[35mdlsite_analyzer \u001b[37mFailed to fetch page 201. Retrying (1/3)...\u001b[0m\n",
      "Fetching pages:  36%|███▌      | 204/567 [18:16<33:59,  5.62s/it]\u001b[90m2025-01-06 00:40:15 \u001b[31mERROR    \u001b[35mdlsite_analyzer \u001b[37mFailed to fetch page 205. Retrying (1/3)...\u001b[0m\n",
      "Fetching pages:  42%|████▏     | 239/567 [21:20<29:47,  5.45s/it]\u001b[90m2025-01-06 00:43:19 \u001b[31mERROR    \u001b[35mdlsite_analyzer \u001b[37mFailed to fetch page 240. Retrying (1/3)...\u001b[0m\n",
      "\u001b[90m2025-01-06 00:43:26 \u001b[31mERROR    \u001b[35mdlsite_analyzer \u001b[37mFailed to fetch page 240. Retrying (2/3)...\u001b[0m\n",
      "Fetching pages:  49%|████▊     | 276/567 [24:26<20:48,  4.29s/it]\u001b[90m2025-01-06 00:46:25 \u001b[31mERROR    \u001b[35mdlsite_analyzer \u001b[37mFailed to fetch page 277. Retrying (1/3)...\u001b[0m\n",
      "Fetching pages:  51%|█████     | 289/567 [25:36<23:34,  5.09s/it]\u001b[90m2025-01-06 00:47:36 \u001b[31mERROR    \u001b[35mdlsite_analyzer \u001b[37mFailed to fetch page 290. Retrying (1/3)...\u001b[0m\n",
      "Fetching pages:  53%|█████▎    | 298/567 [26:26<20:44,  4.63s/it]\u001b[90m2025-01-06 00:48:24 \u001b[31mERROR    \u001b[35mdlsite_analyzer \u001b[37mFailed to fetch page 299. Retrying (1/3)...\u001b[0m\n",
      "Fetching pages:  53%|█████▎    | 303/567 [26:55<21:44,  4.94s/it]\u001b[90m2025-01-06 00:48:53 \u001b[31mERROR    \u001b[35mdlsite_analyzer \u001b[37mFailed to fetch page 304. Retrying (1/3)...\u001b[0m\n",
      "Fetching pages:  56%|█████▌    | 317/567 [28:07<19:16,  4.63s/it]\u001b[90m2025-01-06 00:50:06 \u001b[31mERROR    \u001b[35mdlsite_analyzer \u001b[37mFailed to fetch page 318. Retrying (1/3)...\u001b[0m\n",
      "Fetching pages:  59%|█████▊    | 332/567 [29:28<19:54,  5.08s/it]\u001b[90m2025-01-06 00:51:29 \u001b[31mERROR    \u001b[35mdlsite_analyzer \u001b[37mFailed to fetch page 333. Retrying (1/3)...\u001b[0m\n",
      "Fetching pages:  60%|██████    | 341/567 [30:21<18:32,  4.92s/it]\u001b[90m2025-01-06 00:52:19 \u001b[31mERROR    \u001b[35mdlsite_analyzer \u001b[37mFailed to fetch page 342. Retrying (1/3)...\u001b[0m\n",
      "Fetching pages:  62%|██████▏   | 352/567 [31:18<17:28,  4.87s/it]\u001b[90m2025-01-06 00:53:18 \u001b[31mERROR    \u001b[35mdlsite_analyzer \u001b[37mFailed to fetch page 353. Retrying (1/3)...\u001b[0m\n",
      "Fetching pages:  64%|██████▍   | 362/567 [32:15<15:15,  4.46s/it]\u001b[90m2025-01-06 00:54:13 \u001b[31mERROR    \u001b[35mdlsite_analyzer \u001b[37mFailed to fetch page 363. Retrying (1/3)...\u001b[0m\n",
      "Fetching pages:  66%|██████▌   | 372/567 [33:09<14:24,  4.43s/it]\u001b[90m2025-01-06 00:55:07 \u001b[31mERROR    \u001b[35mdlsite_analyzer \u001b[37mFailed to fetch page 373. Retrying (1/3)...\u001b[0m\n",
      "Fetching pages:  67%|██████▋   | 379/567 [33:48<15:13,  4.86s/it]\u001b[90m2025-01-06 00:55:48 \u001b[31mERROR    \u001b[35mdlsite_analyzer \u001b[37mFailed to fetch page 380. Retrying (1/3)...\u001b[0m\n",
      "Fetching pages:  70%|██████▉   | 395/567 [35:17<16:03,  5.60s/it]\u001b[90m2025-01-06 00:57:15 \u001b[31mERROR    \u001b[35mdlsite_analyzer \u001b[37mFailed to fetch page 396. Retrying (1/3)...\u001b[0m\n",
      "Fetching pages:  71%|███████   | 402/567 [35:58<13:46,  5.01s/it]\u001b[90m2025-01-06 00:57:57 \u001b[31mERROR    \u001b[35mdlsite_analyzer \u001b[37mFailed to fetch page 403. Retrying (1/3)...\u001b[0m\n",
      "Fetching pages:  72%|███████▏  | 410/567 [36:44<12:15,  4.69s/it]\u001b[90m2025-01-06 00:58:44 \u001b[31mERROR    \u001b[35mdlsite_analyzer \u001b[37mFailed to fetch page 411. Retrying (1/3)...\u001b[0m\n",
      "\u001b[90m2025-01-06 00:58:52 \u001b[31mERROR    \u001b[35mdlsite_analyzer \u001b[37mFailed to fetch page 411. Retrying (2/3)...\u001b[0m\n",
      "Fetching pages:  74%|███████▍  | 421/567 [37:58<13:14,  5.44s/it]\u001b[90m2025-01-06 00:59:57 \u001b[31mERROR    \u001b[35mdlsite_analyzer \u001b[37mFailed to fetch page 422. Retrying (1/3)...\u001b[0m\n",
      "Fetching pages:  82%|████████▏ | 466/567 [41:44<07:40,  4.56s/it]\u001b[90m2025-01-06 01:03:42 \u001b[31mERROR    \u001b[35mdlsite_analyzer \u001b[37mFailed to fetch page 467. Retrying (1/3)...\u001b[0m\n",
      "Fetching pages:  83%|████████▎ | 471/567 [42:14<08:02,  5.02s/it]\u001b[90m2025-01-06 01:04:13 \u001b[31mERROR    \u001b[35mdlsite_analyzer \u001b[37mFailed to fetch page 472. Retrying (1/3)...\u001b[0m\n",
      "Fetching pages:  87%|████████▋ | 491/567 [44:01<05:43,  4.52s/it]\u001b[90m2025-01-06 01:06:01 \u001b[31mERROR    \u001b[35mdlsite_analyzer \u001b[37mFailed to fetch page 492. Retrying (1/3)...\u001b[0m\n",
      "Fetching pages:  87%|████████▋ | 493/567 [44:20<08:02,  6.51s/it]\u001b[90m2025-01-06 01:06:21 \u001b[31mERROR    \u001b[35mdlsite_analyzer \u001b[37mFailed to fetch page 494. Retrying (1/3)...\u001b[0m\n",
      "Fetching pages:  88%|████████▊ | 499/567 [44:58<06:08,  5.43s/it]\u001b[90m2025-01-06 01:06:57 \u001b[31mERROR    \u001b[35mdlsite_analyzer \u001b[37mFailed to fetch page 500. Retrying (1/3)...\u001b[0m\n",
      "Fetching pages:  88%|████████▊ | 501/567 [45:15<07:23,  6.72s/it]\u001b[90m2025-01-06 01:07:14 \u001b[31mERROR    \u001b[35mdlsite_analyzer \u001b[37mFailed to fetch page 502. Retrying (1/3)...\u001b[0m\n",
      "Fetching pages:  98%|█████████▊| 557/567 [49:56<00:51,  5.18s/it]\u001b[90m2025-01-06 01:11:55 \u001b[31mERROR    \u001b[35mdlsite_analyzer \u001b[37mFailed to fetch page 558. Retrying (1/3)...\u001b[0m\n",
      "Fetching pages: 100%|██████████| 567/567 [50:54<00:00,  5.39s/it]\n",
      "\u001b[90m2025-01-06 01:12:47 \u001b[94mINFO     \u001b[35mdlsite_analyzer \u001b[37mAll pages processed and saved as JSON files.\u001b[0m\n"
     ]
    }
   ],
   "source": [
    "# ボイス作品のデータをJSONファイルに保存\n",
    "fetch_and_save_voice_works(RAW_JSON_DATA_DIR)"
   ]
  },
  {
   "cell_type": "code",
   "execution_count": 4,
   "metadata": {},
   "outputs": [
    {
     "name": "stderr",
     "output_type": "stream",
     "text": [
      "Importing JSON to DB: 100%|██████████| 567/567 [00:02<00:00, 256.61it/s]\n",
      "\u001b[90m2025-01-06 01:15:01 \u001b[94mINFO     \u001b[35mdlsite_analyzer \u001b[37mAll JSON data imported to the database.\u001b[0m\n"
     ]
    }
   ],
   "source": [
    "# JSONファイルからデータベースにデータをインポート\n",
    "import_voice_works_to_db(RAW_JSON_DATA_DIR)"
   ]
  }
 ],
 "metadata": {
  "kernelspec": {
   "display_name": "dlsite-analyzer-4m5FI_lM-py3.11",
   "language": "python",
   "name": "python3"
  },
  "language_info": {
   "codemirror_mode": {
    "name": "ipython",
    "version": 3
   },
   "file_extension": ".py",
   "mimetype": "text/x-python",
   "name": "python",
   "nbconvert_exporter": "python",
   "pygments_lexer": "ipython3",
   "version": "3.11.9"
  }
 },
 "nbformat": 4,
 "nbformat_minor": 2
}
