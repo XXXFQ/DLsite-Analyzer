{
 "cells": [
  {
   "cell_type": "code",
   "execution_count": 4,
   "metadata": {},
   "outputs": [],
   "source": [
    "import requests\n",
    "from bs4 import BeautifulSoup\n",
    "\n",
    "headers = {\n",
    "    \"User-Agent\": \"Mozilla/5.0 (Windows NT 10.0; Win64; x64) AppleWebKit/537.36 (KHTML, like Gecko) Chrome/117.0.5938.132 Safari/537.36\",\n",
    "    \"Accept-Language\": \"en-US,en;q=0.9\",\n",
    "    \"Accept-Encoding\": \"gzip, deflate, br\",\n",
    "    \"Connection\": \"keep-alive\"\n",
    "}\n",
    "url = 'https://www.dlsite.com/maniax/work/=/product_id/RJ438625.html'\n",
    "\n",
    "response = requests.get(url, headers=headers)"
   ]
  },
  {
   "cell_type": "code",
   "execution_count": 5,
   "metadata": {},
   "outputs": [
    {
     "name": "stdout",
     "output_type": "stream",
     "text": [
      "{'release_date': '2022年12月23日', 'series_name': '', 'scenario': ['乾右京'], 'illustration': ['なぎは'], 'voice_actor': ['秋野かえで', '逢坂成美'], 'age_rating': 'R18', 'product_format': 'ボイス・ASMR', 'genre': ['バイノーラル/ダミヘ', 'ASMR', '妹', 'サキュバス/淫魔', 'ラブラブ/あまあま', 'ハーレム', '中出し', '男性受け']}\n"
     ]
    }
   ],
   "source": [
    "# Parse the HTML response\n",
    "soup = BeautifulSoup(response.text, \"html.parser\")\n",
    "\n",
    "# Find the table by its ID\n",
    "analysis_element = soup.find(\"table\", id=\"work_outline\")\n",
    "\n",
    "# Extract headers and corresponding detail links in one pass using zip\n",
    "table_headers = [th.text.strip() for th in analysis_element.find_all(\"th\")]\n",
    "detail_links = [td.find_all(\"a\") for td in analysis_element.find_all(\"td\")]\n",
    "\n",
    "# Create a dictionary using dictionary comprehension for readability\n",
    "work_details = {\n",
    "    header: [link.text.strip() for link in links]\n",
    "    for header, links in zip(table_headers, detail_links)\n",
    "}\n",
    "\n",
    "# Map the work details to a structured dictionary with defaults\n",
    "work_details_mapped = {\n",
    "    'release_date': work_details.get('販売日', [''])[0],\n",
    "    'series_name': work_details.get('シリーズ名', [''])[0],\n",
    "    'scenario': work_details.get('シナリオ', []),\n",
    "    'illustration': work_details.get('イラスト', []),\n",
    "    'voice_actor': work_details.get('声優', []),\n",
    "    'age_rating': work_details.get('年齢指定', [''])[0],\n",
    "    'product_format': work_details.get('作品形式', [''])[0],\n",
    "    'genre': work_details.get('ジャンル', []),\n",
    "}\n",
    "\n",
    "print(work_details_mapped)"
   ]
  },
  {
   "cell_type": "code",
   "execution_count": 1,
   "metadata": {},
   "outputs": [],
   "source": [
    "from dlsite_analyzer.config import RAW_JSON_DATA_DIR\n",
    "from dlsite_analyzer import (\n",
    "    DatabaseInitializer,\n",
    "    fetch_and_save_voice_works,\n",
    "    import_voice_works_to_db,\n",
    ")"
   ]
  },
  {
   "cell_type": "code",
   "execution_count": 4,
   "metadata": {},
   "outputs": [
    {
     "name": "stderr",
     "output_type": "stream",
     "text": [
      "\u001b[90m2025-01-05 21:10:48 \u001b[94mINFO     \u001b[35mdlsite_analyzer.database_initializer \u001b[37mTables created.\u001b[0m\n",
      "\u001b[90m2025-01-05 21:10:48 \u001b[94mINFO     \u001b[35mdlsite_analyzer.database_initializer \u001b[37mIndexes created.\u001b[0m\n",
      "\u001b[90m2025-01-05 21:10:48 \u001b[94mINFO     \u001b[35mdlsite_analyzer.database_initializer \u001b[37mInitial data inserted.\u001b[0m\n",
      "\u001b[90m2025-01-05 21:10:48 \u001b[94mINFO     \u001b[35mdlsite_analyzer.database_initializer \u001b[37mViews created.\u001b[0m\n"
     ]
    }
   ],
   "source": [
    "# Initialize the database if required\n",
    "DatabaseInitializer().initialize()"
   ]
  },
  {
   "cell_type": "code",
   "execution_count": null,
   "metadata": {},
   "outputs": [
    {
     "name": "stderr",
     "output_type": "stream",
     "text": [
      "\u001b[90m2024-11-08 19:00:31 \u001b[94mINFO     \u001b[35mdlsite_analyzer \u001b[37mTotal pages to process: 545\u001b[0m\n",
      "100%|██████████| 545/545 [43:58<00:00,  4.84s/it]\n",
      "\u001b[90m2024-11-08 19:44:30 \u001b[94mINFO     \u001b[35mdlsite_analyzer \u001b[37mFinished saving voice works to JSON files.\u001b[0m\n"
     ]
    }
   ],
   "source": [
    "# ボイス作品のデータをJSONファイルに保存\n",
    "fetch_and_save_voice_works(RAW_JSON_DATA_DIR)"
   ]
  },
  {
   "cell_type": "code",
   "execution_count": 5,
   "metadata": {},
   "outputs": [
    {
     "name": "stderr",
     "output_type": "stream",
     "text": [
      "Importing JSON to DB:   0%|          | 0/545 [00:00<?, ?it/s]"
     ]
    },
    {
     "name": "stderr",
     "output_type": "stream",
     "text": [
      "Importing JSON to DB: 100%|██████████| 545/545 [00:10<00:00, 53.53it/s]\n",
      "\u001b[90m2025-01-05 21:11:09 \u001b[94mINFO     \u001b[35mdlsite_analyzer \u001b[37mAll JSON data imported to the database.\u001b[0m\n"
     ]
    }
   ],
   "source": [
    "# JSONファイルからデータベースにデータをインポート\n",
    "import_voice_works_to_db(RAW_JSON_DATA_DIR)"
   ]
  }
 ],
 "metadata": {
  "kernelspec": {
   "display_name": "dlsite-analyzer-4m5FI_lM-py3.11",
   "language": "python",
   "name": "python3"
  },
  "language_info": {
   "codemirror_mode": {
    "name": "ipython",
    "version": 3
   },
   "file_extension": ".py",
   "mimetype": "text/x-python",
   "name": "python",
   "nbconvert_exporter": "python",
   "pygments_lexer": "ipython3",
   "version": "3.11.9"
  }
 },
 "nbformat": 4,
 "nbformat_minor": 2
}
