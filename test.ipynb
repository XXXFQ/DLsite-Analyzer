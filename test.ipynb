{
 "cells": [
  {
   "cell_type": "code",
   "execution_count": null,
   "metadata": {},
   "outputs": [],
   "source": [
    "from dlsite_analyzer.config import RAW_JSON_DATA_DIR\n",
    "from dlsite_analyzer import (\n",
    "    initialize_database,\n",
    "    fetch_and_save_voice_works,\n",
    "    import_voice_works_to_db,\n",
    ")"
   ]
  },
  {
   "cell_type": "code",
   "execution_count": 2,
   "metadata": {},
   "outputs": [],
   "source": [
    "# データベースにテーブルが存在しない場合は初期化する\n",
    "initialize_database()"
   ]
  },
  {
   "cell_type": "code",
   "execution_count": null,
   "metadata": {},
   "outputs": [
    {
     "name": "stderr",
     "output_type": "stream",
     "text": [
      "\u001b[90m2024-11-08 19:00:31 \u001b[94mINFO     \u001b[35mdlsite_analyzer \u001b[37mTotal pages to process: 545\u001b[0m\n",
      "100%|██████████| 545/545 [43:58<00:00,  4.84s/it]\n",
      "\u001b[90m2024-11-08 19:44:30 \u001b[94mINFO     \u001b[35mdlsite_analyzer \u001b[37mFinished saving voice works to JSON files.\u001b[0m\n"
     ]
    }
   ],
   "source": [
    "# ボイス作品のデータをJSONファイルに保存\n",
    "fetch_and_save_voice_works(RAW_JSON_DATA_DIR)"
   ]
  }
 ],
 "metadata": {
  "kernelspec": {
   "display_name": "Python 3",
   "language": "python",
   "name": "python3"
  },
  "language_info": {
   "codemirror_mode": {
    "name": "ipython",
    "version": 3
   },
   "file_extension": ".py",
   "mimetype": "text/x-python",
   "name": "python",
   "nbconvert_exporter": "python",
   "pygments_lexer": "ipython3",
   "version": "3.11.4"
  }
 },
 "nbformat": 4,
 "nbformat_minor": 2
}
